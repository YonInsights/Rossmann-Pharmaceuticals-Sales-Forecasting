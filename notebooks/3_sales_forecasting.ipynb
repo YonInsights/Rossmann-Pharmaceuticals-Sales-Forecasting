{
 "cells": [
  {
   "cell_type": "code",
   "execution_count": 1,
   "metadata": {
    "vscode": {
     "languageId": "ruby"
    }
   },
   "outputs": [],
   "source": [
    "import os\n",
    "import sys\n",
    "# Add the scripts folder to the Python path\n",
    "sys.path.append(os.path.abspath(\"../scripts\"))"
   ]
  },
  {
   "cell_type": "code",
   "execution_count": 9,
   "metadata": {
    "vscode": {
     "languageId": "ruby"
    }
   },
   "outputs": [],
   "source": [
    "# Import necessary modules\n",
    "from pathlib import Path\n",
    "from data_loader import load_data, summarize_data, identify_column_types\n",
    "from preprocessing import handle_missing_values, encode_categorical_columns, scale_numerical_columns\n",
    "from feature_engineering import add_date_features, add_rolling_features\n",
    "from model_training import train_random_forest, evaluate_model\n",
    "from evaluation import save_model, load_model, calculate_confidence_intervals"
   ]
  },
  {
   "cell_type": "code",
   "execution_count": 8,
   "metadata": {
    "vscode": {
     "languageId": "ruby"
    }
   },
   "outputs": [],
   "source": [
    "#Define the Dataset Path\n",
    "data_path = Path(r\"D:\\Kifya_training\\Week 4\\Rossmann-Pharmaceuticals-Sales-Forecasting\\data\\processed\")\n",
    "train_file = data_path / \"train_data.csv\"\n",
    "test_file = data_path / \"test_data.csv\"\n",
    "store_file = data_path / \"store_data.csv\""
   ]
  },
  {
   "cell_type": "code",
   "execution_count": 10,
   "metadata": {
    "vscode": {
     "languageId": "ruby"
    }
   },
   "outputs": [
    {
     "name": "stdout",
     "output_type": "stream",
     "text": [
      "Loading datasets...\n",
      "Loaded data from D:\\Kifya_training\\Week 4\\Rossmann-Pharmaceuticals-Sales-Forecasting\\data\\processed\\train_data.csv\n",
      "Loaded data from D:\\Kifya_training\\Week 4\\Rossmann-Pharmaceuticals-Sales-Forecasting\\data\\processed\\test_data.csv\n",
      "Loaded data from D:\\Kifya_training\\Week 4\\Rossmann-Pharmaceuticals-Sales-Forecasting\\data\\processed\\store_data.csv\n"
     ]
    }
   ],
   "source": [
    "# Load the Datasets\n",
    "print(\"Loading datasets...\")\n",
    "train_data = load_data(train_file)\n",
    "test_data = load_data(test_file)\n",
    "store_data = load_data(store_file)"
   ]
  },
  {
   "cell_type": "code",
   "execution_count": 11,
   "metadata": {
    "vscode": {
     "languageId": "ruby"
    }
   },
   "outputs": [
    {
     "name": "stdout",
     "output_type": "stream",
     "text": [
      "Summarizing train data...\n",
      "Summary of the dataset:\n",
      "<class 'pandas.core.frame.DataFrame'>\n",
      "RangeIndex: 1017209 entries, 0 to 1017208\n",
      "Data columns (total 12 columns):\n",
      " #   Column              Non-Null Count    Dtype  \n",
      "---  ------              --------------    -----  \n",
      " 0   Store               1017209 non-null  float64\n",
      " 1   DayOfWeek           1017209 non-null  int64  \n",
      " 2   Date                1017209 non-null  object \n",
      " 3   Sales               1017209 non-null  float64\n",
      " 4   Customers           1017209 non-null  float64\n",
      " 5   Open                1017209 non-null  float64\n",
      " 6   Promo               1017209 non-null  float64\n",
      " 7   StateHoliday        1017209 non-null  float64\n",
      " 8   SchoolHoliday       1017209 non-null  float64\n",
      " 9   Month               1017209 non-null  int64  \n",
      " 10  Year                1017209 non-null  int64  \n",
      " 11  DaysSinceLastPromo  1017209 non-null  int64  \n",
      "dtypes: float64(7), int64(4), object(1)\n",
      "memory usage: 93.1+ MB\n",
      "None\n",
      "\n",
      "Missing Values:\n",
      "Store                 0\n",
      "DayOfWeek             0\n",
      "Date                  0\n",
      "Sales                 0\n",
      "Customers             0\n",
      "Open                  0\n",
      "Promo                 0\n",
      "StateHoliday          0\n",
      "SchoolHoliday         0\n",
      "Month                 0\n",
      "Year                  0\n",
      "DaysSinceLastPromo    0\n",
      "dtype: int64\n",
      "\n",
      "Duplicate Rows:\n",
      "Number of duplicate rows: 0\n",
      "\n",
      "Identifying column types...\n",
      "Numeric Columns: Index(['Store', 'DayOfWeek', 'Sales', 'Customers', 'Open', 'Promo',\n",
      "       'StateHoliday', 'SchoolHoliday', 'Month', 'Year', 'DaysSinceLastPromo'],\n",
      "      dtype='object')\n",
      "Categorical Columns: Index(['Date'], dtype='object')\n"
     ]
    }
   ],
   "source": [
    "# Summarize the Dataset\n",
    "print(\"Summarizing train data...\")\n",
    "summarize_data(train_data)\n",
    "\n",
    "print(\"\\nIdentifying column types...\")\n",
    "numeric_cols, categorical_cols = identify_column_types(train_data)\n",
    "print(f\"Numeric Columns: {numeric_cols}\")\n",
    "print(f\"Categorical Columns: {categorical_cols}\")"
   ]
  }
 ],
 "metadata": {
  "kernelspec": {
   "display_name": "venv",
   "language": "python",
   "name": "python3"
  },
  "language_info": {
   "codemirror_mode": {
    "name": "ipython",
    "version": 3
   },
   "file_extension": ".py",
   "mimetype": "text/x-python",
   "name": "python",
   "nbconvert_exporter": "python",
   "pygments_lexer": "ipython3",
   "version": "3.12.8"
  }
 },
 "nbformat": 4,
 "nbformat_minor": 2
}
