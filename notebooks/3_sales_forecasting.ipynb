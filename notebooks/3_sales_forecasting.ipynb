{
 "cells": [
  {
   "cell_type": "code",
   "execution_count": 27,
   "metadata": {
    "vscode": {
     "languageId": "ruby"
    }
   },
   "outputs": [],
   "source": [
    "import os\n",
    "import sys\n",
    "# Add the scripts folder to the Python path\n",
    "sys.path.append(os.path.abspath(\"../scripts\"))"
   ]
  },
  {
   "cell_type": "code",
   "execution_count": 28,
   "metadata": {
    "vscode": {
     "languageId": "ruby"
    }
   },
   "outputs": [],
   "source": [
    "# Import necessary modules\n",
    "from pathlib import Path\n",
    "from data_loader import load_data, summarize_data, identify_column_types\n",
    "from preprocessing import handle_missing_values, encode_categorical_columns, scale_numerical_columns\n",
    "from feature_engineering import add_date_features, add_rolling_features\n",
    "from model_training import train_random_forest, evaluate_model\n",
    "from evaluation import save_model, load_model, calculate_confidence_intervals"
   ]
  },
  {
   "cell_type": "code",
   "execution_count": 29,
   "metadata": {
    "vscode": {
     "languageId": "ruby"
    }
   },
   "outputs": [],
   "source": [
    "#Define the Dataset Path\n",
    "data_path = Path(r\"D:\\Kifya_training\\Week 4\\Rossmann-Pharmaceuticals-Sales-Forecasting\\data\\processed\")\n",
    "train_file = data_path / \"train_data.csv\"\n",
    "test_file = data_path / \"test_data.csv\"\n",
    "store_file = data_path / \"store_data.csv\""
   ]
  },
  {
   "cell_type": "code",
   "execution_count": 30,
   "metadata": {
    "vscode": {
     "languageId": "ruby"
    }
   },
   "outputs": [
    {
     "name": "stdout",
     "output_type": "stream",
     "text": [
      "Loading datasets...\n",
      "Loaded data from D:\\Kifya_training\\Week 4\\Rossmann-Pharmaceuticals-Sales-Forecasting\\data\\processed\\train_data.csv\n",
      "Loaded data from D:\\Kifya_training\\Week 4\\Rossmann-Pharmaceuticals-Sales-Forecasting\\data\\processed\\test_data.csv\n",
      "Loaded data from D:\\Kifya_training\\Week 4\\Rossmann-Pharmaceuticals-Sales-Forecasting\\data\\processed\\store_data.csv\n"
     ]
    }
   ],
   "source": [
    "# Load the Datasets\n",
    "print(\"Loading datasets...\")\n",
    "train_data = load_data(train_file)\n",
    "test_data = load_data(test_file)\n",
    "store_data = load_data(store_file)"
   ]
  },
  {
   "cell_type": "code",
   "execution_count": 31,
   "metadata": {
    "vscode": {
     "languageId": "ruby"
    }
   },
   "outputs": [
    {
     "name": "stdout",
     "output_type": "stream",
     "text": [
      "Summarizing train data...\n",
      "Summary of the dataset:\n",
      "<class 'pandas.core.frame.DataFrame'>\n",
      "RangeIndex: 1017209 entries, 0 to 1017208\n",
      "Data columns (total 12 columns):\n",
      " #   Column              Non-Null Count    Dtype  \n",
      "---  ------              --------------    -----  \n",
      " 0   Store               1017209 non-null  float64\n",
      " 1   DayOfWeek           1017209 non-null  int64  \n",
      " 2   Date                1017209 non-null  object \n",
      " 3   Sales               1017209 non-null  float64\n",
      " 4   Customers           1017209 non-null  float64\n",
      " 5   Open                1017209 non-null  float64\n",
      " 6   Promo               1017209 non-null  float64\n",
      " 7   StateHoliday        1017209 non-null  float64\n",
      " 8   SchoolHoliday       1017209 non-null  float64\n",
      " 9   Month               1017209 non-null  int64  \n",
      " 10  Year                1017209 non-null  int64  \n",
      " 11  DaysSinceLastPromo  1017209 non-null  int64  \n",
      "dtypes: float64(7), int64(4), object(1)\n",
      "memory usage: 93.1+ MB\n",
      "None\n",
      "\n",
      "Missing Values:\n",
      "Store                 0\n",
      "DayOfWeek             0\n",
      "Date                  0\n",
      "Sales                 0\n",
      "Customers             0\n",
      "Open                  0\n",
      "Promo                 0\n",
      "StateHoliday          0\n",
      "SchoolHoliday         0\n",
      "Month                 0\n",
      "Year                  0\n",
      "DaysSinceLastPromo    0\n",
      "dtype: int64\n",
      "\n",
      "Duplicate Rows:\n",
      "Number of duplicate rows: 0\n",
      "\n",
      "Identifying column types...\n",
      "Numeric Columns: Index(['Store', 'DayOfWeek', 'Sales', 'Customers', 'Open', 'Promo',\n",
      "       'StateHoliday', 'SchoolHoliday', 'Month', 'Year', 'DaysSinceLastPromo'],\n",
      "      dtype='object')\n",
      "Categorical Columns: Index(['Date'], dtype='object')\n"
     ]
    }
   ],
   "source": [
    "# Summarize the Dataset\n",
    "print(\"Summarizing train data...\")\n",
    "summarize_data(train_data)\n",
    "\n",
    "print(\"\\nIdentifying column types...\")\n",
    "numeric_cols, categorical_cols = identify_column_types(train_data)\n",
    "print(f\"Numeric Columns: {numeric_cols}\")\n",
    "print(f\"Categorical Columns: {categorical_cols}\")"
   ]
  },
  {
   "cell_type": "code",
   "execution_count": 32,
   "metadata": {
    "vscode": {
     "languageId": "ruby"
    }
   },
   "outputs": [
    {
     "name": "stdout",
     "output_type": "stream",
     "text": [
      "Handling missing values...\n",
      "Skipping non-numeric column: Date\n"
     ]
    },
    {
     "name": "stderr",
     "output_type": "stream",
     "text": [
      "d:\\Kifya_training\\Week 4\\Rossmann-Pharmaceuticals-Sales-Forecasting\\scripts\\preprocessing.py:18: FutureWarning: A value is trying to be set on a copy of a DataFrame or Series through chained assignment using an inplace method.\n",
      "The behavior will change in pandas 3.0. This inplace method will never work because the intermediate object on which we are setting values always behaves as a copy.\n",
      "\n",
      "For example, when doing 'df[col].method(value, inplace=True)', try using 'df.method({col: value}, inplace=True)' or df[col] = df[col].method(value) instead, to perform the operation inplace on the original object.\n",
      "\n",
      "\n",
      "  df[col].fillna(df[col].mean(), inplace=True)\n"
     ]
    },
    {
     "name": "stdout",
     "output_type": "stream",
     "text": [
      "Missing values handled successfully.\n",
      "Encoding categorical columns...\n",
      "Scaling numerical columns...\n"
     ]
    }
   ],
   "source": [
    "# Preprocessing Pipeline\n",
    "print(\"Handling missing values...\")\n",
    "train_data = handle_missing_values(train_data, strategy='mean')\n",
    "\n",
    "print(\"Encoding categorical columns...\")\n",
    "train_data, encoders = encode_categorical_columns(train_data)\n",
    "\n",
    "print(\"Scaling numerical columns...\")\n",
    "train_data = scale_numerical_columns(train_data, numeric_cols)"
   ]
  },
  {
   "cell_type": "code",
   "execution_count": 33,
   "metadata": {
    "vscode": {
     "languageId": "ruby"
    }
   },
   "outputs": [
    {
     "name": "stdout",
     "output_type": "stream",
     "text": [
      "Adding date features...\n",
      "Adding rolling average features...\n"
     ]
    }
   ],
   "source": [
    "#Feature Engineering\n",
    "print(\"Adding date features...\")\n",
    "if 'Date' in train_data.columns:\n",
    "    train_data = add_date_features(train_data, 'Date')\n",
    "\n",
    "print(\"Adding rolling average features...\")\n",
    "if 'Sales' in train_data.columns:\n",
    "    train_data = add_rolling_features(train_data, 'Sales', window_size=7)\n"
   ]
  },
  {
   "cell_type": "code",
   "execution_count": 34,
   "metadata": {
    "vscode": {
     "languageId": "ruby"
    }
   },
   "outputs": [
    {
     "name": "stdout",
     "output_type": "stream",
     "text": [
      "Preparing data for modeling...\n"
     ]
    }
   ],
   "source": [
    "# Prepare Data for Modeling\n",
    "print(\"Preparing data for modeling...\")\n",
    "X = train_data.drop(['Sales', 'Date'], axis=1)  # Features\n",
    "y = train_data['Sales']  # Target"
   ]
  },
  {
   "cell_type": "code",
   "execution_count": 35,
   "metadata": {
    "vscode": {
     "languageId": "ruby"
    }
   },
   "outputs": [
    {
     "name": "stdout",
     "output_type": "stream",
     "text": [
      "Training Random Forest model...\n"
     ]
    }
   ],
   "source": [
    "# Train Machine Learning Model\n",
    "print(\"Training Random Forest model...\")\n",
    "rf_params = {'n_estimators': 100, 'max_depth': 10, 'random_state': 42}\n",
    "model = train_random_forest(X, y, params=rf_params)"
   ]
  },
  {
   "cell_type": "code",
   "execution_count": 36,
   "metadata": {
    "vscode": {
     "languageId": "ruby"
    }
   },
   "outputs": [
    {
     "name": "stdout",
     "output_type": "stream",
     "text": [
      "Training Random Forest model...\n"
     ]
    }
   ],
   "source": [
    "# Train Machine Learning Model\n",
    "print(\"Training Random Forest model...\")\n",
    "rf_params = {'n_estimators': 100, 'max_depth': 10, 'random_state': 42}\n",
    "model = train_random_forest(X, y, params=rf_params)"
   ]
  },
  {
   "cell_type": "code",
   "execution_count": 37,
   "metadata": {
    "vscode": {
     "languageId": "ruby"
    }
   },
   "outputs": [
    {
     "name": "stdout",
     "output_type": "stream",
     "text": [
      "Adding date features...\n",
      "Adding rolling average features...\n"
     ]
    }
   ],
   "source": [
    "#Feature Engineering\n",
    "print(\"Adding date features...\")\n",
    "if 'Date' in train_data.columns:\n",
    "    train_data = add_date_features(train_data, 'Date')\n",
    "\n",
    "print(\"Adding rolling average features...\")\n",
    "if 'Sales' in train_data.columns:\n",
    "    train_data = add_rolling_features(train_data, 'Sales', window_size=7)\n"
   ]
  },
  {
   "cell_type": "code",
   "execution_count": 38,
   "metadata": {
    "vscode": {
     "languageId": "ruby"
    }
   },
   "outputs": [
    {
     "name": "stdout",
     "output_type": "stream",
     "text": [
      "Evaluating the model...\n"
     ]
    }
   ],
   "source": [
    "#Evaluate the Model\n",
    "print(\"Evaluating the model...\")\n",
    "X_test = test_data.drop(['Sales'], axis=1) if 'Sales' in test_data.columns else test_data\n",
    "y_test = test_data['Sales'] if 'Sales' in test_data.columns else None\n",
    "\n",
    "if y_test is not None:\n",
    "    rmse = evaluate_model(model, X_test, y_test)"
   ]
  },
  {
   "cell_type": "code",
   "execution_count": 39,
   "metadata": {
    "vscode": {
     "languageId": "ruby"
    }
   },
   "outputs": [
    {
     "name": "stdout",
     "output_type": "stream",
     "text": [
      "Saving the trained model...\n",
      "Model saved at ../models/sales_model.pkl\n",
      "Loading the model for validation...\n"
     ]
    }
   ],
   "source": [
    "# Serialize the Model\n",
    "print(\"Saving the trained model...\")\n",
    "model_path = \"../models/sales_model.pkl\"\n",
    "save_model(model, model_path)\n",
    "\n",
    "print(\"Loading the model for validation...\")\n",
    "loaded_model = load_model(model_path)"
   ]
  },
  {
   "cell_type": "code",
   "execution_count": 40,
   "metadata": {
    "vscode": {
     "languageId": "ruby"
    }
   },
   "outputs": [
    {
     "name": "stdout",
     "output_type": "stream",
     "text": [
      "Calculating confidence intervals...\n"
     ]
    }
   ],
   "source": [
    "\n",
    "# Post-Prediction Analysis\n",
    "print(\"Calculating confidence intervals...\")\n",
    "if y_test is not None:\n",
    "    predictions = loaded_model.predict(X_test)\n",
    "    confidence_lower, confidence_upper = calculate_confidence_intervals(predictions)\n",
    "    print(f\"95% Confidence Interval: ({confidence_lower}, {confidence_upper})\")"
   ]
  }
 ],
 "metadata": {
  "kernelspec": {
   "display_name": "venv",
   "language": "python",
   "name": "python3"
  },
  "language_info": {
   "codemirror_mode": {
    "name": "ipython",
    "version": 3
   },
   "file_extension": ".py",
   "mimetype": "text/x-python",
   "name": "python",
   "nbconvert_exporter": "python",
   "pygments_lexer": "ipython3",
   "version": "3.12.8"
  }
 },
 "nbformat": 4,
 "nbformat_minor": 2
}
