{
 "cells": [
  {
   "cell_type": "code",
   "execution_count": 1,
   "metadata": {},
   "outputs": [],
   "source": [
    "import os\n",
    "import sys\n",
    "# Add the scripts folder to the Python path\n",
    "sys.path.append(os.path.abspath(\"../scripts\"))"
   ]
  },
  {
   "cell_type": "code",
   "execution_count": 2,
   "metadata": {},
   "outputs": [],
   "source": [
    "#import the required libraries and modules\n",
    "import pandas as pd\n",
    "from sklearn.preprocessing import StandardScaler, LabelEncoder\n",
    "from data_loader import load_data\n",
    "from data_cleaning import check_missing_values, count_missing_values,replace_missing_values_with_zero,check_for_duplicates, preprocess_data\n",
    "from data_preprocessing import detect_and_handle_outliers,create_new_features"
   ]
  },
  {
   "cell_type": "code",
   "execution_count": 3,
   "id": "data-loader",
   "metadata": {},
   "outputs": [
    {
     "name": "stderr",
     "output_type": "stream",
     "text": [
      "d:\\Kifya_training\\Week 4\\Rossmann-Pharmaceuticals-Sales-Forecasting\\scripts\\data_loader.py:16: DtypeWarning: Columns (7) have mixed types. Specify dtype option on import or set low_memory=False.\n",
      "  return pd.read_csv(file_path)\n"
     ]
    }
   ],
   "source": [
    "# Load the data\n",
    "train_data = load_data(r'D:\\Kifya_training\\Week 4\\Rossmann-Pharmaceuticals-Sales-Forecasting\\data\\raw\\train.csv')\n",
    "test_data = load_data(r'D:\\Kifya_training\\Week 4\\Rossmann-Pharmaceuticals-Sales-Forecasting\\data\\raw\\test.csv')\n",
    "store_data = load_data(r'D:\\Kifya_training\\Week 4\\Rossmann-Pharmaceuticals-Sales-Forecasting\\data\\raw\\store.csv')\n",
    "\n"
   ]
  },
  {
   "cell_type": "code",
   "execution_count": 7,
   "metadata": {},
   "outputs": [
    {
     "data": {
      "text/html": [
       "<div>\n",
       "<style scoped>\n",
       "    .dataframe tbody tr th:only-of-type {\n",
       "        vertical-align: middle;\n",
       "    }\n",
       "\n",
       "    .dataframe tbody tr th {\n",
       "        vertical-align: top;\n",
       "    }\n",
       "\n",
       "    .dataframe thead th {\n",
       "        text-align: right;\n",
       "    }\n",
       "</style>\n",
       "<table border=\"1\" class=\"dataframe\">\n",
       "  <thead>\n",
       "    <tr style=\"text-align: right;\">\n",
       "      <th></th>\n",
       "      <th>Store</th>\n",
       "      <th>DayOfWeek</th>\n",
       "      <th>Date</th>\n",
       "      <th>Sales</th>\n",
       "      <th>Customers</th>\n",
       "      <th>Open</th>\n",
       "      <th>Promo</th>\n",
       "      <th>StateHoliday</th>\n",
       "      <th>SchoolHoliday</th>\n",
       "    </tr>\n",
       "  </thead>\n",
       "  <tbody>\n",
       "    <tr>\n",
       "      <th>0</th>\n",
       "      <td>1</td>\n",
       "      <td>5</td>\n",
       "      <td>2015-07-31</td>\n",
       "      <td>5263</td>\n",
       "      <td>555</td>\n",
       "      <td>1</td>\n",
       "      <td>1</td>\n",
       "      <td>0</td>\n",
       "      <td>1</td>\n",
       "    </tr>\n",
       "    <tr>\n",
       "      <th>1</th>\n",
       "      <td>2</td>\n",
       "      <td>5</td>\n",
       "      <td>2015-07-31</td>\n",
       "      <td>6064</td>\n",
       "      <td>625</td>\n",
       "      <td>1</td>\n",
       "      <td>1</td>\n",
       "      <td>0</td>\n",
       "      <td>1</td>\n",
       "    </tr>\n",
       "    <tr>\n",
       "      <th>2</th>\n",
       "      <td>3</td>\n",
       "      <td>5</td>\n",
       "      <td>2015-07-31</td>\n",
       "      <td>8314</td>\n",
       "      <td>821</td>\n",
       "      <td>1</td>\n",
       "      <td>1</td>\n",
       "      <td>0</td>\n",
       "      <td>1</td>\n",
       "    </tr>\n",
       "    <tr>\n",
       "      <th>3</th>\n",
       "      <td>4</td>\n",
       "      <td>5</td>\n",
       "      <td>2015-07-31</td>\n",
       "      <td>13995</td>\n",
       "      <td>1498</td>\n",
       "      <td>1</td>\n",
       "      <td>1</td>\n",
       "      <td>0</td>\n",
       "      <td>1</td>\n",
       "    </tr>\n",
       "    <tr>\n",
       "      <th>4</th>\n",
       "      <td>5</td>\n",
       "      <td>5</td>\n",
       "      <td>2015-07-31</td>\n",
       "      <td>4822</td>\n",
       "      <td>559</td>\n",
       "      <td>1</td>\n",
       "      <td>1</td>\n",
       "      <td>0</td>\n",
       "      <td>1</td>\n",
       "    </tr>\n",
       "  </tbody>\n",
       "</table>\n",
       "</div>"
      ],
      "text/plain": [
       "   Store  DayOfWeek        Date  Sales  Customers  Open  Promo StateHoliday  \\\n",
       "0      1          5  2015-07-31   5263        555     1      1            0   \n",
       "1      2          5  2015-07-31   6064        625     1      1            0   \n",
       "2      3          5  2015-07-31   8314        821     1      1            0   \n",
       "3      4          5  2015-07-31  13995       1498     1      1            0   \n",
       "4      5          5  2015-07-31   4822        559     1      1            0   \n",
       "\n",
       "   SchoolHoliday  \n",
       "0              1  \n",
       "1              1  \n",
       "2              1  \n",
       "3              1  \n",
       "4              1  "
      ]
     },
     "execution_count": 7,
     "metadata": {},
     "output_type": "execute_result"
    }
   ],
   "source": [
    "# Check for missing values\n",
    "check_missing_values(train_data)\n",
    "check_missing_values(test_data)\n",
    "check_missing_values(store_data)\n",
    "\n",
    "# Display the first few rows of the train data\n",
    "train_data.head()"
   ]
  },
  {
   "cell_type": "code",
   "execution_count": 8,
   "metadata": {},
   "outputs": [
    {
     "name": "stdout",
     "output_type": "stream",
     "text": [
      "Missing values in train data:\n",
      " Store            0\n",
      "DayOfWeek        0\n",
      "Date             0\n",
      "Sales            0\n",
      "Customers        0\n",
      "Open             0\n",
      "Promo            0\n",
      "StateHoliday     0\n",
      "SchoolHoliday    0\n",
      "dtype: int64\n",
      "\n",
      "Missing values in test data:\n",
      " Id                0\n",
      "Store             0\n",
      "DayOfWeek         0\n",
      "Date              0\n",
      "Open             11\n",
      "Promo             0\n",
      "StateHoliday      0\n",
      "SchoolHoliday     0\n",
      "dtype: int64\n",
      "\n",
      "Missing values in store data:\n",
      " Store                          0\n",
      "StoreType                      0\n",
      "Assortment                     0\n",
      "CompetitionDistance            3\n",
      "CompetitionOpenSinceMonth    354\n",
      "CompetitionOpenSinceYear     354\n",
      "Promo2                         0\n",
      "Promo2SinceWeek              544\n",
      "Promo2SinceYear              544\n",
      "PromoInterval                544\n",
      "dtype: int64\n"
     ]
    }
   ],
   "source": [
    "# count missing values\n",
    "count_missing_values(train_data, test_data, store_data)\n"
   ]
  },
  {
   "cell_type": "code",
   "execution_count": 9,
   "metadata": {},
   "outputs": [],
   "source": [
    "# replace missing values with zero\n",
    "replace_missing_values_with_zero(train_data, test_data, store_data)"
   ]
  },
  {
   "cell_type": "code",
   "execution_count": 10,
   "metadata": {},
   "outputs": [],
   "source": [
    "# check for duplicates\n",
    "check_for_duplicates(train_data, test_data, store_data)"
   ]
  },
  {
   "cell_type": "code",
   "execution_count": 11,
   "metadata": {},
   "outputs": [],
   "source": [
    "\n",
    "# Preprocess the data\n",
    "preprocess_data(train_data, test_data)\n"
   ]
  },
  {
   "cell_type": "code",
   "execution_count": 12,
   "metadata": {},
   "outputs": [
    {
     "name": "stdout",
     "output_type": "stream",
     "text": [
      "Outliers in Sales:\n",
      "        Store DayOfWeek       Date  Sales  Customers  Open  Promo  \\\n",
      "6           7         5 2015-07-31  15344       1414     1      1   \n",
      "23         24         5 2015-07-31  14190       1082     1      1   \n",
      "24         25         5 2015-07-31  14180       1586     1      1   \n",
      "83         84         5 2015-07-31  14949       1439     1      1   \n",
      "107       108         5 2015-07-31  14927        992     1      1   \n",
      "...       ...       ...        ...    ...        ...   ...    ...   \n",
      "1015767   788         3 2013-01-02  17934       1791     1      0   \n",
      "1015796   817         3 2013-01-02  25357       3462     1      0   \n",
      "1015821   842         3 2013-01-02  20355       1257     1      0   \n",
      "1016093  1114         3 2013-01-02  20642       3401     1      0   \n",
      "1016356   262         2 2013-01-01  17267       2875     1      0   \n",
      "\n",
      "        StateHoliday  SchoolHoliday  \n",
      "6                  0              1  \n",
      "23                 0              1  \n",
      "24                 0              1  \n",
      "83                 0              1  \n",
      "107                0              0  \n",
      "...              ...            ...  \n",
      "1015767            0              1  \n",
      "1015796            0              1  \n",
      "1015821            0              1  \n",
      "1016093            0              1  \n",
      "1016356            a              1  \n",
      "\n",
      "[26694 rows x 9 columns]\n",
      "Outliers in Customers:\n",
      "        Store DayOfWeek       Date    Sales  Customers  Open  Promo  \\\n",
      "3           4         5 2015-07-31  13995.0       1498     1      1   \n",
      "24         25         5 2015-07-31  14049.5       1586     1      1   \n",
      "124       125         5 2015-07-31  14049.5       2041     1      1   \n",
      "210       211         5 2015-07-31  14049.5       1659     1      1   \n",
      "250       251         5 2015-07-31  14049.5       2508     1      1   \n",
      "...       ...       ...        ...      ...        ...   ...    ...   \n",
      "1016093  1114         3 2013-01-02  14049.5       3401     1      0   \n",
      "1016356   262         2 2013-01-01  14049.5       2875     1      0   \n",
      "1016517   423         2 2013-01-01   9643.0       1751     1      0   \n",
      "1016656   562         2 2013-01-01   8498.0       1675     1      0   \n",
      "1016827   733         2 2013-01-01  10765.0       2377     1      0   \n",
      "\n",
      "        StateHoliday  SchoolHoliday  \n",
      "3                  0              1  \n",
      "24                 0              1  \n",
      "124                0              1  \n",
      "210                0              1  \n",
      "250                0              1  \n",
      "...              ...            ...  \n",
      "1016093            0              1  \n",
      "1016356            a              1  \n",
      "1016517            a              1  \n",
      "1016656            a              1  \n",
      "1016827            a              1  \n",
      "\n",
      "[38095 rows x 9 columns]\n"
     ]
    }
   ],
   "source": [
    "# detect_and_handle_outliers for the train data\n",
    "detect_and_handle_outliers(train_data, ['Sales', 'Customers'])"
   ]
  },
  {
   "cell_type": "code",
   "execution_count": 13,
   "metadata": {},
   "outputs": [],
   "source": [
    " #create new features\n",
    "create_new_features(train_data, test_data)"
   ]
  },
  {
   "cell_type": "code",
   "execution_count": 14,
   "metadata": {},
   "outputs": [
    {
     "name": "stdout",
     "output_type": "stream",
     "text": [
      "      Store  DayOfWeek       Date    Sales  Customers      Open     Promo  \\\n",
      "0 -1.731640          4 2015-07-31   5263.0      555.0  0.452399  1.273237   \n",
      "1 -1.728534          4 2015-07-31   6064.0      625.0  0.452399  1.273237   \n",
      "2 -1.725427          4 2015-07-31   8314.0      821.0  0.452399  1.273237   \n",
      "3 -1.722321          4 2015-07-31  13995.0     1485.0  0.452399  1.273237   \n",
      "4 -1.719214          4 2015-07-31   4822.0      559.0  0.452399  1.273237   \n",
      "\n",
      "   StateHoliday  SchoolHoliday  Month  Year  DaysSinceLastPromo  \n",
      "0     -0.159217       2.144211      7  2015                   0  \n",
      "1     -0.159217       2.144211      7  2015                   0  \n",
      "2     -0.159217       2.144211      7  2015                   0  \n",
      "3     -0.159217       2.144211      7  2015                   0  \n",
      "4     -0.159217       2.144211      7  2015                   0  \n"
     ]
    }
   ],
   "source": [
    "\n",
    "# Select numerical features to scale\n",
    "numerical_features = ['Store', 'Open', 'Promo', 'StateHoliday', 'SchoolHoliday']\n",
    "\n",
    "# Initialize the scaler and label encoder\n",
    "scaler = StandardScaler()\n",
    "le = LabelEncoder()\n",
    "\n",
    "# Convert 'StateHoliday' column to strings\n",
    "train_data['StateHoliday'] = train_data['StateHoliday'].astype(str)\n",
    "test_data['StateHoliday'] = test_data['StateHoliday'].astype(str)\n",
    "\n",
    "# Encode the 'StateHoliday' column\n",
    "train_data['StateHoliday'] = le.fit_transform(train_data['StateHoliday'])\n",
    "test_data['StateHoliday'] = le.transform(test_data['StateHoliday'])\n",
    "\n",
    "# Fit and transform the train data\n",
    "train_data[numerical_features] = scaler.fit_transform(train_data[numerical_features])\n",
    "\n",
    "# Transform the test data\n",
    "test_data[numerical_features] = scaler.transform(test_data[numerical_features])\n",
    "\n",
    "# Display the first few rows of the scaled train data\n",
    "print(train_data.head())\n"
   ]
  },
  {
   "cell_type": "code",
   "execution_count": 15,
   "metadata": {},
   "outputs": [
    {
     "name": "stdout",
     "output_type": "stream",
     "text": [
      "   Store  CompetitionDistance  CompetitionOpenSinceMonth  \\\n",
      "0      1               1270.0                        9.0   \n",
      "1      2                570.0                       11.0   \n",
      "2      3              14130.0                       12.0   \n",
      "3      4                620.0                        9.0   \n",
      "4      5              29910.0                        4.0   \n",
      "\n",
      "   CompetitionOpenSinceYear  Promo2  Promo2SinceWeek  Promo2SinceYear  \\\n",
      "0                    2008.0       0              0.0              0.0   \n",
      "1                    2007.0       1             13.0           2010.0   \n",
      "2                    2006.0       1             14.0           2011.0   \n",
      "3                    2009.0       0              0.0              0.0   \n",
      "4                    2015.0       0              0.0              0.0   \n",
      "\n",
      "     PromoInterval  StoreType_b  StoreType_c  StoreType_d  Assortment_b  \\\n",
      "0                0        False         True        False         False   \n",
      "1  Jan,Apr,Jul,Oct        False        False        False         False   \n",
      "2  Jan,Apr,Jul,Oct        False        False        False         False   \n",
      "3                0        False         True        False         False   \n",
      "4                0        False        False        False         False   \n",
      "\n",
      "   Assortment_c  \n",
      "0         False  \n",
      "1         False  \n",
      "2         False  \n",
      "3          True  \n",
      "4         False  \n"
     ]
    }
   ],
   "source": [
    "# One-hot encode 'StoreType' and 'Assortment' columns in store_data\n",
    "store_data = pd.get_dummies(store_data, columns=['StoreType', 'Assortment'], drop_first=True)\n",
    "\n",
    "# Display the first few rows of the encoded store_data\n",
    "print(store_data.head())"
   ]
  },
  {
   "cell_type": "code",
   "execution_count": 16,
   "metadata": {},
   "outputs": [],
   "source": [
    "# Save the cleaned and preprocessed train data\n",
    "train_data.to_csv(r'D:\\Kifya_training\\Week 4\\Rossmann-Pharmaceuticals-Sales-Forecasting\\data\\processed\\train_data.csv', index=False)\n",
    "\n",
    "# Save the cleaned and preprocessed test data\n",
    "test_data.to_csv(r'D:\\Kifya_training\\Week 4\\Rossmann-Pharmaceuticals-Sales-Forecasting\\data\\processed\\test_data.csv', index=False)\n",
    "\n",
    "# Save the cleaned and preprocessed store data\n",
    "store_data.to_csv(r'D:\\Kifya_training\\Week 4\\Rossmann-Pharmaceuticals-Sales-Forecasting\\data\\processed\\store_data.csv', index=False)"
   ]
  },
  {
   "cell_type": "code",
   "execution_count": null,
   "metadata": {},
   "outputs": [],
   "source": []
  }
 ],
 "metadata": {
  "kernelspec": {
   "display_name": "venv",
   "language": "python",
   "name": "python3"
  },
  "language_info": {
   "codemirror_mode": {
    "name": "ipython",
    "version": 3
   },
   "file_extension": ".py",
   "mimetype": "text/x-python",
   "name": "python",
   "nbconvert_exporter": "python",
   "pygments_lexer": "ipython3",
   "version": "3.12.8"
  }
 },
 "nbformat": 4,
 "nbformat_minor": 2
}
